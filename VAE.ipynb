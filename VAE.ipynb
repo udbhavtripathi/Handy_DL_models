{
 "cells": [
  {
   "cell_type": "code",
   "execution_count": 1,
   "metadata": {},
   "outputs": [],
   "source": [
    "import matplotlib.pyplot as plt\n",
    "import numpy as np\n",
    "import tensorflow as tf\n",
    "import pandas as pd\n",
    "# import sklearn.metrics import accuracy \n",
    "from sklearn.model_selection import train_test_split\n",
    "from tensorflow.keras import layers,losses\n",
    "from tensorflow.keras.models import Model\n",
    "from tensorflow.keras.datasets import fashion_mnist\n",
    "import torchsummary\n"
   ]
  },
  {
   "cell_type": "code",
   "execution_count": 2,
   "metadata": {},
   "outputs": [],
   "source": [
    "(x_train,_), (x_test,_) = fashion_mnist.load_data()\n",
    "\n"
   ]
  },
  {
   "cell_type": "code",
   "execution_count": 3,
   "metadata": {},
   "outputs": [
    {
     "data": {
      "text/plain": [
       "1.0"
      ]
     },
     "execution_count": 3,
     "metadata": {},
     "output_type": "execute_result"
    }
   ],
   "source": [
    "x_train, x_test = x_train / 255.0, x_test/255.0\n",
    "x_train.max()"
   ]
  },
  {
   "cell_type": "code",
   "execution_count": 4,
   "metadata": {},
   "outputs": [
    {
     "data": {
      "text/plain": [
       "(60000, 28, 28)"
      ]
     },
     "execution_count": 4,
     "metadata": {},
     "output_type": "execute_result"
    }
   ],
   "source": [
    "x_train.shape"
   ]
  },
  {
   "cell_type": "code",
   "execution_count": 5,
   "metadata": {},
   "outputs": [
    {
     "data": {
      "text/plain": [
       "(10000, 28, 28)"
      ]
     },
     "execution_count": 5,
     "metadata": {},
     "output_type": "execute_result"
    }
   ],
   "source": [
    "x_test.shape"
   ]
  },
  {
   "cell_type": "code",
   "execution_count": 6,
   "metadata": {},
   "outputs": [
    {
     "data": {
      "text/plain": [
       "(60000, 28, 28, 1)"
      ]
     },
     "execution_count": 6,
     "metadata": {},
     "output_type": "execute_result"
    }
   ],
   "source": [
    "x_train = np.reshape(x_train, (60000,28,28,1))\n",
    "x_test = np.reshape(x_test, (10000,28,28,1))\n",
    "x_train.shape"
   ]
  },
  {
   "cell_type": "code",
   "execution_count": 7,
   "metadata": {},
   "outputs": [],
   "source": [
    "x_train = x_train.astype('float32')\n",
    "x_test = x_test.astype('float32')"
   ]
  },
  {
   "cell_type": "code",
   "execution_count": 8,
   "metadata": {},
   "outputs": [],
   "source": [
    "train_size = 1000\n",
    "batch_size = 32\n",
    "test_size = 1000"
   ]
  },
  {
   "cell_type": "code",
   "execution_count": 9,
   "metadata": {},
   "outputs": [],
   "source": [
    "train_dataset = tf.data.Dataset.from_tensor_slices(x_train).shuffle(train_size).batch(batch_size)\n",
    "test_dataset = tf.data.Dataset.from_tensor_slices(x_test).shuffle(test_size).batch(batch_size)"
   ]
  },
  {
   "cell_type": "code",
   "execution_count": 10,
   "metadata": {},
   "outputs": [
    {
     "data": {
      "text/plain": [
       "<BatchDataset shapes: (None, 28, 28, 1), types: tf.float32>"
      ]
     },
     "execution_count": 10,
     "metadata": {},
     "output_type": "execute_result"
    }
   ],
   "source": [
    "train_dataset"
   ]
  },
  {
   "cell_type": "code",
   "execution_count": 11,
   "metadata": {},
   "outputs": [],
   "source": [
    "class VAE(Model):\n",
    "\n",
    "    def __init__(self, latent_dim):\n",
    "        super(VAE,self).__init__()\n",
    "        self.latent_dim = latent_dim\n",
    "        # self.hidden_layer = hidden_layer\n",
    "\n",
    "        self.encoder = tf.keras.Sequential([\n",
    "            layers.InputLayer(input_shape=(28,28,1) ) ,\n",
    "            layers.Conv2D(filters = 32, kernel_size= (3,3), strides=(2,2), padding='same' , activation='relu'),\n",
    "            layers.MaxPool2D(pool_size= (2,2), strides= (2,2) ),\n",
    "            layers.Conv2D(filters = 64, kernel_size= (3,3), strides=(2,2), padding='same' , activation='relu'),\n",
    "            layers.MaxPool2D(pool_size= (2,2), strides= (2,2) ),\n",
    "            layers.Flatten(),\n",
    "            layers.Dense(latent_dim + latent_dim)\n",
    "\n",
    "        ])\n",
    "\n",
    "        self.decoder = tf.keras.Sequential([\n",
    "            layers.InputLayer(  input_shape=(latent_dim,) ),\n",
    "            layers.Dense(units = 7 *7*32, activation='relu'),\n",
    "            layers.Reshape(target_shape=(7,7,32)),\n",
    "            layers.Conv2DTranspose(filters=32, kernel_size= (3,3), strides = (1,1), padding= 'same', activation='relu' ),\n",
    "            layers.UpSampling2D(size=(2,2)),\n",
    "            layers.Conv2DTranspose(filters=64, kernel_size= (3,3), strides = (1,1), padding= 'same', activation='relu' ),\n",
    "            layers.UpSampling2D(size=(2,2)),\n",
    "            # layers.Conv2DTranspose(filters=1, kernel_size= (3,3), strides = (1,1), padding= 'same', activation='sigmoid'),\n",
    "            layers.Conv2DTranspose(filters=1, kernel_size= (3,3), strides = (1,1), padding= 'same'),\n",
    "            \n",
    "\n",
    "        ])\n",
    "\n",
    "\n",
    "    def encode(self,x):\n",
    "        mean, logvar = tf.split(self.encoder(x), num_or_size_splits=2, axis = 1)\n",
    "        return mean, logvar\n",
    "    \n",
    "    def reparameterize(self,mean,logvar):\n",
    "        eps = tf.random.normal(shape = mean.shape)\n",
    "        return mean + eps* tf.exp(logvar * 0.5)\n",
    "    \n",
    "    def decode(self,z):\n",
    "        out = self.decoder(z)\n",
    "        return out\n",
    "\n",
    "\n",
    "    def sample(self, eps = None):\n",
    "        if eps is None:\n",
    "            eps = tf.random.normal(shape = (100, self.latent_dim))\n",
    "\n",
    "        return self.decode(eps)\n",
    "\n",
    "\n",
    "\n",
    "    "
   ]
  },
  {
   "cell_type": "code",
   "execution_count": 12,
   "metadata": {},
   "outputs": [],
   "source": [
    "optimizer = tf.keras.optimizers.Adam(1e-3)\n",
    "\n",
    "\n",
    "def log_normal_pdf(sample, mean, logvar, raxis=1):\n",
    "  log2pi = tf.math.log(2. * np.pi)\n",
    "  return tf.reduce_sum(\n",
    "      -.5 * ((sample - mean) ** 2. * tf.exp(-logvar) + logvar + log2pi),\n",
    "      axis=raxis)\n",
    "\n",
    "\n",
    "def compute_loss(model, x):\n",
    "  mean, logvar = model.encode(x)\n",
    "  z = model.reparameterize(mean, logvar)\n",
    "  x_logit = model.decode(z)\n",
    "  cross_ent = tf.nn.sigmoid_cross_entropy_with_logits(logits=x_logit, labels=x)\n",
    "  logpx_z = -tf.reduce_sum(cross_ent, axis=[1, 2, 3])\n",
    "  logpz = log_normal_pdf(z, 0., 0.)\n",
    "  logqz_x = log_normal_pdf(z, mean, logvar)\n",
    "  return -tf.reduce_mean(logpx_z + logpz - logqz_x)\n",
    "\n",
    "\n",
    "@tf.function\n",
    "def train_step(model, x, optimizer):\n",
    "  \"\"\"Executes one training step and returns the loss.\n",
    "\n",
    "  This function computes the loss and gradients, and uses the latter to\n",
    "  update the model's parameters.\n",
    "  \"\"\"\n",
    "  with tf.GradientTape() as tape:\n",
    "    loss = compute_loss(model, x)\n",
    "  gradients = tape.gradient(loss, model.trainable_variables)\n",
    "  optimizer.apply_gradients(zip(gradients, model.trainable_variables))"
   ]
  },
  {
   "cell_type": "code",
   "execution_count": 13,
   "metadata": {},
   "outputs": [],
   "source": [
    "epochs = 50\n",
    "# set the dimensionality of the latent space to a plane for visualization later\n",
    "latent_dim = 2\n",
    "num_examples_to_generate = 16\n",
    "\n",
    "# keeping the random vector constant for generation (prediction) so\n",
    "# it will be easier to see the improvement.\n",
    "random_vector_for_generation = tf.random.normal(\n",
    "    shape=[num_examples_to_generate, latent_dim])\n",
    "model = VAE(latent_dim)"
   ]
  },
  {
   "cell_type": "code",
   "execution_count": 14,
   "metadata": {},
   "outputs": [],
   "source": [
    "# model.summary()"
   ]
  },
  {
   "cell_type": "code",
   "execution_count": 15,
   "metadata": {},
   "outputs": [
    {
     "data": {
      "text/plain": [
       "<BatchDataset shapes: (None, 28, 28, 1), types: tf.float32>"
      ]
     },
     "execution_count": 15,
     "metadata": {},
     "output_type": "execute_result"
    }
   ],
   "source": [
    "train_dataset"
   ]
  },
  {
   "cell_type": "code",
   "execution_count": 16,
   "metadata": {},
   "outputs": [
    {
     "name": "stdout",
     "output_type": "stream",
     "text": [
      "Epoch: 1, Test set ELBO: -271.9333801269531\n",
      "Epoch: 2, Test set ELBO: -269.3380432128906\n",
      "Epoch: 3, Test set ELBO: -268.5915222167969\n",
      "Epoch: 4, Test set ELBO: -266.9696350097656\n",
      "Epoch: 5, Test set ELBO: -266.3743591308594\n",
      "Epoch: 6, Test set ELBO: -266.4210510253906\n",
      "Epoch: 7, Test set ELBO: -266.15203857421875\n",
      "Epoch: 8, Test set ELBO: -265.05615234375\n",
      "Epoch: 9, Test set ELBO: -266.0285339355469\n",
      "Epoch: 10, Test set ELBO: -264.7662353515625\n",
      "Epoch: 11, Test set ELBO: -264.8706970214844\n",
      "Epoch: 12, Test set ELBO: -264.79351806640625\n",
      "Epoch: 13, Test set ELBO: -263.9149169921875\n",
      "Epoch: 14, Test set ELBO: -264.2061767578125\n",
      "Epoch: 15, Test set ELBO: -264.3375549316406\n",
      "Epoch: 16, Test set ELBO: -263.8731384277344\n",
      "Epoch: 17, Test set ELBO: -263.91400146484375\n",
      "Epoch: 18, Test set ELBO: -263.430908203125\n",
      "Epoch: 19, Test set ELBO: -263.8680114746094\n",
      "Epoch: 20, Test set ELBO: -263.5908203125\n",
      "Epoch: 21, Test set ELBO: -263.4540100097656\n",
      "Epoch: 22, Test set ELBO: -263.6430969238281\n",
      "Epoch: 23, Test set ELBO: -264.0283203125\n",
      "Epoch: 24, Test set ELBO: -263.2539367675781\n",
      "Epoch: 25, Test set ELBO: -263.4800109863281\n",
      "Epoch: 26, Test set ELBO: -263.086669921875\n",
      "Epoch: 27, Test set ELBO: -264.1773681640625\n",
      "Epoch: 28, Test set ELBO: -262.937744140625\n",
      "Epoch: 29, Test set ELBO: -264.4990539550781\n",
      "Epoch: 30, Test set ELBO: -263.1070251464844\n",
      "Epoch: 31, Test set ELBO: -262.88543701171875\n",
      "Epoch: 32, Test set ELBO: -262.72491455078125\n",
      "Epoch: 33, Test set ELBO: -263.4269714355469\n",
      "Epoch: 34, Test set ELBO: -262.7610778808594\n",
      "Epoch: 35, Test set ELBO: -263.1792297363281\n",
      "Epoch: 36, Test set ELBO: -262.5646667480469\n",
      "Epoch: 37, Test set ELBO: -262.8951416015625\n",
      "Epoch: 38, Test set ELBO: -262.4893798828125\n",
      "Epoch: 39, Test set ELBO: -263.0452880859375\n",
      "Epoch: 40, Test set ELBO: -262.5272216796875\n",
      "Epoch: 41, Test set ELBO: -262.7393493652344\n",
      "Epoch: 42, Test set ELBO: -262.81915283203125\n",
      "Epoch: 43, Test set ELBO: -262.955078125\n",
      "Epoch: 44, Test set ELBO: -262.8585510253906\n",
      "Epoch: 45, Test set ELBO: -262.46417236328125\n",
      "Epoch: 46, Test set ELBO: -262.4402160644531\n",
      "Epoch: 47, Test set ELBO: -262.68145751953125\n",
      "Epoch: 48, Test set ELBO: -262.3974609375\n",
      "Epoch: 49, Test set ELBO: -262.744873046875\n",
      "Epoch: 50, Test set ELBO: -262.4559020996094\n"
     ]
    }
   ],
   "source": [
    "# generate_and_save_images(model, 0, test_sample)\n",
    "\n",
    "for epoch in range(1, epochs + 1):\n",
    "  \n",
    "  for train_x in train_dataset:\n",
    "    train_step(model, train_x, optimizer)\n",
    "  \n",
    "\n",
    "  loss = tf.keras.metrics.Mean()\n",
    "  for test_x in test_dataset:\n",
    "    loss(compute_loss(model, test_x))\n",
    "  elbo = -loss.result()\n",
    "  # display.clear_output(wait=False)\n",
    "  print('Epoch: {}, Test set ELBO: {}'\n",
    "        .format(epoch, elbo))\n",
    "#   generate_and_save_images(model, epoch, test_sample)"
   ]
  },
  {
   "cell_type": "code",
   "execution_count": 17,
   "metadata": {},
   "outputs": [],
   "source": [
    "def generate_and_save_images(model, epoch, test_sample):\n",
    "  mean, logvar = model.encode(test_sample)\n",
    "  z = model.reparameterize(mean, logvar)\n",
    "  predictions = model.sample(z)\n",
    "  fig = plt.figure(figsize=(4, 4))\n",
    "\n",
    "  for i in range(predictions.shape[0]):\n",
    "    plt.subplot(4, 4, i + 1)\n",
    "    plt.imshow(predictions[i, :, :, 0], cmap='gray')\n",
    "    plt.axis('off')\n",
    "\n",
    "  # tight_layout minimizes the overlap between 2 sub-plots\n",
    "  plt.savefig('image_at_epoch_{:04d}.png'.format(epoch))\n",
    "  plt.show()"
   ]
  },
  {
   "cell_type": "code",
   "execution_count": 18,
   "metadata": {},
   "outputs": [
    {
     "data": {
      "image/png": "[encoded data removed]",
      "text/plain": [
       "<Figure size 400x400 with 16 Axes>"
      ]
     },
     "metadata": {},
     "output_type": "display_data"
    }
   ],
   "source": [
    "for test_batch in test_dataset.take(1):\n",
    "  test_sample = test_batch[0:num_examples_to_generate, :, :, :]\n",
    "generate_and_save_images(model, 0, test_sample)"
   ]
  },
  {
   "cell_type": "code",
   "execution_count": null,
   "metadata": {},
   "outputs": [],
   "source": []
  }
 ],
 "metadata": {
  "kernelspec": {
   "display_name": "tf-gpu",
   "language": "python",
   "name": "python3"
  },
  "language_info": {
   "codemirror_mode": {
    "name": "ipython",
    "version": 3
   },
   "file_extension": ".py",
   "mimetype": "text/x-python",
   "name": "python",
   "nbconvert_exporter": "python",
   "pygments_lexer": "ipython3",
   "version": "3.9.16"
  },
  "orig_nbformat": 4
 },
 "nbformat": 4,
 "nbformat_minor": 2
}
