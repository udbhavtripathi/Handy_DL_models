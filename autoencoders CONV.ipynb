{
 "cells": [
  {
   "cell_type": "code",
   "execution_count": 1,
   "metadata": {},
   "outputs": [],
   "source": [
    "import matplotlib.pyplot as plt\n",
    "import numpy as np\n",
    "import tensorflow as tf\n",
    "import pandas as pd\n",
    "# import sklearn.metrics import accuracy \n",
    "from sklearn.model_selection import train_test_split\n",
    "from tensorflow.keras import layers,losses\n",
    "from tensorflow.keras.models import Model\n",
    "from tensorflow.keras.datasets import fashion_mnist\n",
    "import torchsummary\n"
   ]
  },
  {
   "cell_type": "code",
   "execution_count": 2,
   "metadata": {},
   "outputs": [],
   "source": [
    "(x_train,_), (x_test,_) = fashion_mnist.load_data()\n",
    "\n"
   ]
  },
  {
   "cell_type": "code",
   "execution_count": null,
   "metadata": {},
   "outputs": [],
   "source": []
  },
  {
   "cell_type": "code",
   "execution_count": 3,
   "metadata": {},
   "outputs": [],
   "source": [
    "x_train = x_train /255.0\n",
    "x_test = x_test /255.0"
   ]
  },
  {
   "cell_type": "code",
   "execution_count": 4,
   "metadata": {},
   "outputs": [],
   "source": [
    "x_train = x_train[1:1000,:,:]\n",
    "x_test = x_test[1:1000, :,:]"
   ]
  },
  {
   "cell_type": "code",
   "execution_count": 6,
   "metadata": {},
   "outputs": [
    {
     "data": {
      "text/plain": [
       "(999, 28, 28)"
      ]
     },
     "execution_count": 6,
     "metadata": {},
     "output_type": "execute_result"
    }
   ],
   "source": [
    "x_train.shape"
   ]
  },
  {
   "cell_type": "code",
   "execution_count": 15,
   "metadata": {},
   "outputs": [
    {
     "data": {
      "text/plain": [
       "(999, 28, 28, 1)"
      ]
     },
     "execution_count": 15,
     "metadata": {},
     "output_type": "execute_result"
    }
   ],
   "source": [
    "x_train = np.reshape(x_train, (999,28,28,1))\n",
    "x_train.shape"
   ]
  },
  {
   "cell_type": "code",
   "execution_count": 16,
   "metadata": {},
   "outputs": [
    {
     "data": {
      "text/plain": [
       "(999, 28, 28, 1)"
      ]
     },
     "execution_count": 16,
     "metadata": {},
     "output_type": "execute_result"
    }
   ],
   "source": [
    "x_test = np.reshape(x_test, (999,28,28,1))\n",
    "x_test.shape"
   ]
  },
  {
   "cell_type": "markdown",
   "metadata": {},
   "source": [
    "define model"
   ]
  },
  {
   "cell_type": "code",
   "execution_count": 17,
   "metadata": {},
   "outputs": [],
   "source": [
    "import tensorflow as tf\n",
    "from tensorflow.keras import layers, models\n",
    "\n",
    "# Define the Autoencoder class\n",
    "class Autoencoder(models.Model):\n",
    "    def __init__(self, latent_dim):\n",
    "        super(Autoencoder, self).__init__()\n",
    "        self.latent_dim = latent_dim\n",
    "        \n",
    "        # Encoder\n",
    "        self.encoder = models.Sequential([\n",
    "            layers.InputLayer(input_shape=(28, 28, 1)),  \n",
    "            layers.Conv2D(32, (3, 3), activation='relu', padding='same'),\n",
    "            layers.MaxPooling2D((2, 2), padding='same'),\n",
    "            layers.Conv2D(64, (3, 3), activation='relu', padding='same'),\n",
    "            layers.MaxPooling2D((2, 2), padding='same'),\n",
    "            layers.Flatten(),\n",
    "            layers.Dense(latent_dim, activation='relu')\n",
    "        ])\n",
    "        \n",
    "        # Decoder\n",
    "        self.decoder = models.Sequential([\n",
    "            layers.InputLayer(input_shape=(latent_dim,)),\n",
    "            layers.Dense(7*7*64, activation='relu'),\n",
    "            layers.Reshape((7, 7, 64)),\n",
    "            layers.Conv2DTranspose(64, (3, 3), activation='relu', padding='same'),\n",
    "            layers.UpSampling2D((2, 2)),\n",
    "            layers.Conv2DTranspose(32, (3, 3), activation='relu', padding='same'),\n",
    "            layers.UpSampling2D((2, 2)),\n",
    "            layers.Conv2DTranspose(1, (3, 3), activation='sigmoid', padding='same')\n",
    "        ])\n",
    "\n",
    "    def call(self, inputs):\n",
    "        encoded = self.encoder(inputs)\n",
    "        decoded = self.decoder(encoded)\n",
    "        return decoded\n"
   ]
  },
  {
   "cell_type": "code",
   "execution_count": 18,
   "metadata": {},
   "outputs": [
    {
     "data": {
      "text/plain": [
       "<__main__.Autoencoder at 0x2147ff02910>"
      ]
     },
     "execution_count": 18,
     "metadata": {},
     "output_type": "execute_result"
    }
   ],
   "source": [
    "# shape = x_train.shape[1:]\n",
    "# print(shape)\n",
    "latent_dim = 32\n",
    "# hidden_size = 128\n",
    "autoencoder = Autoencoder(latent_dim)\n",
    "autoencoder"
   ]
  },
  {
   "cell_type": "code",
   "execution_count": 19,
   "metadata": {},
   "outputs": [],
   "source": [
    "# autoencoder.summary()"
   ]
  },
  {
   "cell_type": "code",
   "execution_count": 20,
   "metadata": {},
   "outputs": [],
   "source": [
    "autoencoder.compile(optimizer='adam', loss=losses.MeanSquaredError())"
   ]
  },
  {
   "cell_type": "code",
   "execution_count": 25,
   "metadata": {},
   "outputs": [
    {
     "name": "stdout",
     "output_type": "stream",
     "text": [
      "Epoch 1/50\n",
      "32/32 [==============================] - 1s 19ms/step - loss: 0.0210 - val_loss: 0.0223\n",
      "Epoch 2/50\n",
      "32/32 [==============================] - 0s 9ms/step - loss: 0.0203 - val_loss: 0.0216\n",
      "Epoch 3/50\n",
      "32/32 [==============================] - 0s 9ms/step - loss: 0.0196 - val_loss: 0.0211\n",
      "Epoch 4/50\n",
      "32/32 [==============================] - 0s 10ms/step - loss: 0.0190 - val_loss: 0.0201\n",
      "Epoch 5/50\n",
      "32/32 [==============================] - 0s 9ms/step - loss: 0.0186 - val_loss: 0.0203\n",
      "Epoch 6/50\n",
      "32/32 [==============================] - 0s 8ms/step - loss: 0.0184 - val_loss: 0.0198\n",
      "Epoch 7/50\n",
      "32/32 [==============================] - 0s 9ms/step - loss: 0.0179 - val_loss: 0.0193\n",
      "Epoch 8/50\n",
      "32/32 [==============================] - 0s 9ms/step - loss: 0.0172 - val_loss: 0.0193\n",
      "Epoch 9/50\n",
      "32/32 [==============================] - 0s 8ms/step - loss: 0.0169 - val_loss: 0.0188\n",
      "Epoch 10/50\n",
      "32/32 [==============================] - 0s 8ms/step - loss: 0.0167 - val_loss: 0.0183\n",
      "Epoch 11/50\n",
      "32/32 [==============================] - 0s 8ms/step - loss: 0.0164 - val_loss: 0.0186\n",
      "Epoch 12/50\n",
      "32/32 [==============================] - 0s 8ms/step - loss: 0.0160 - val_loss: 0.0186\n",
      "Epoch 13/50\n",
      "32/32 [==============================] - 0s 8ms/step - loss: 0.0158 - val_loss: 0.0180\n",
      "Epoch 14/50\n",
      "32/32 [==============================] - 0s 9ms/step - loss: 0.0157 - val_loss: 0.0182\n",
      "Epoch 15/50\n",
      "32/32 [==============================] - 0s 8ms/step - loss: 0.0156 - val_loss: 0.0180\n",
      "Epoch 16/50\n",
      "32/32 [==============================] - 0s 8ms/step - loss: 0.0150 - val_loss: 0.0176\n",
      "Epoch 17/50\n",
      "32/32 [==============================] - 0s 8ms/step - loss: 0.0148 - val_loss: 0.0172\n",
      "Epoch 18/50\n",
      "32/32 [==============================] - 0s 8ms/step - loss: 0.0147 - val_loss: 0.0171\n",
      "Epoch 19/50\n",
      "32/32 [==============================] - 0s 7ms/step - loss: 0.0145 - val_loss: 0.0168\n",
      "Epoch 20/50\n",
      "32/32 [==============================] - 0s 7ms/step - loss: 0.0142 - val_loss: 0.0168\n",
      "Epoch 21/50\n",
      "32/32 [==============================] - 0s 7ms/step - loss: 0.0140 - val_loss: 0.0168\n",
      "Epoch 22/50\n",
      "32/32 [==============================] - 0s 7ms/step - loss: 0.0139 - val_loss: 0.0166\n",
      "Epoch 23/50\n",
      "32/32 [==============================] - 0s 7ms/step - loss: 0.0138 - val_loss: 0.0165\n",
      "Epoch 24/50\n",
      "32/32 [==============================] - 0s 7ms/step - loss: 0.0132 - val_loss: 0.0163\n",
      "Epoch 25/50\n",
      "32/32 [==============================] - 0s 7ms/step - loss: 0.0133 - val_loss: 0.0162\n",
      "Epoch 26/50\n",
      "32/32 [==============================] - 0s 7ms/step - loss: 0.0130 - val_loss: 0.0162\n",
      "Epoch 27/50\n",
      "32/32 [==============================] - 0s 7ms/step - loss: 0.0130 - val_loss: 0.0162\n",
      "Epoch 28/50\n",
      "32/32 [==============================] - 0s 7ms/step - loss: 0.0130 - val_loss: 0.0162\n",
      "Epoch 29/50\n",
      "32/32 [==============================] - 0s 7ms/step - loss: 0.0128 - val_loss: 0.0160\n",
      "Epoch 30/50\n",
      "32/32 [==============================] - 0s 8ms/step - loss: 0.0126 - val_loss: 0.0160\n",
      "Epoch 31/50\n",
      "32/32 [==============================] - 0s 7ms/step - loss: 0.0124 - val_loss: 0.0163\n",
      "Epoch 32/50\n",
      "32/32 [==============================] - 0s 7ms/step - loss: 0.0124 - val_loss: 0.0160\n",
      "Epoch 33/50\n",
      "32/32 [==============================] - 0s 7ms/step - loss: 0.0121 - val_loss: 0.0157\n",
      "Epoch 34/50\n",
      "32/32 [==============================] - 0s 7ms/step - loss: 0.0120 - val_loss: 0.0157\n",
      "Epoch 35/50\n",
      "32/32 [==============================] - 0s 7ms/step - loss: 0.0118 - val_loss: 0.0160\n",
      "Epoch 36/50\n",
      "32/32 [==============================] - 0s 7ms/step - loss: 0.0119 - val_loss: 0.0171\n",
      "Epoch 37/50\n",
      "32/32 [==============================] - 0s 7ms/step - loss: 0.0119 - val_loss: 0.0156\n",
      "Epoch 38/50\n",
      "32/32 [==============================] - 0s 7ms/step - loss: 0.0117 - val_loss: 0.0156\n",
      "Epoch 39/50\n",
      "32/32 [==============================] - 0s 7ms/step - loss: 0.0114 - val_loss: 0.0154\n",
      "Epoch 40/50\n",
      "32/32 [==============================] - 0s 7ms/step - loss: 0.0113 - val_loss: 0.0159\n",
      "Epoch 41/50\n",
      "32/32 [==============================] - 0s 7ms/step - loss: 0.0114 - val_loss: 0.0155\n",
      "Epoch 42/50\n",
      "32/32 [==============================] - 0s 7ms/step - loss: 0.0111 - val_loss: 0.0157\n",
      "Epoch 43/50\n",
      "32/32 [==============================] - 0s 7ms/step - loss: 0.0111 - val_loss: 0.0153\n",
      "Epoch 44/50\n",
      "32/32 [==============================] - 0s 7ms/step - loss: 0.0108 - val_loss: 0.0152\n",
      "Epoch 45/50\n",
      "32/32 [==============================] - 0s 7ms/step - loss: 0.0107 - val_loss: 0.0152\n",
      "Epoch 46/50\n",
      "32/32 [==============================] - 0s 7ms/step - loss: 0.0106 - val_loss: 0.0152\n",
      "Epoch 47/50\n",
      "32/32 [==============================] - 0s 7ms/step - loss: 0.0106 - val_loss: 0.0159\n",
      "Epoch 48/50\n",
      "32/32 [==============================] - 0s 8ms/step - loss: 0.0112 - val_loss: 0.0155\n",
      "Epoch 49/50\n",
      "32/32 [==============================] - 0s 7ms/step - loss: 0.0108 - val_loss: 0.0156\n",
      "Epoch 50/50\n",
      "32/32 [==============================] - 0s 7ms/step - loss: 0.0106 - val_loss: 0.0155\n"
     ]
    },
    {
     "data": {
      "text/plain": [
       "<keras.callbacks.History at 0x214a5597fa0>"
      ]
     },
     "execution_count": 25,
     "metadata": {},
     "output_type": "execute_result"
    }
   ],
   "source": [
    "autoencoder.fit(x_train, x_train,\n",
    "                batch_size=32,\n",
    "                epochs=50,\n",
    "                shuffle=True,\n",
    "                validation_data=(x_test, x_test))"
   ]
  },
  {
   "cell_type": "code",
   "execution_count": 26,
   "metadata": {},
   "outputs": [],
   "source": [
    "encoded_imgs = autoencoder.encoder(x_test).numpy()\n",
    "decoded_imgs = autoencoder.decoder(encoded_imgs).numpy()"
   ]
  },
  {
   "cell_type": "code",
   "execution_count": 27,
   "metadata": {},
   "outputs": [
    {
     "data": {
      "image/png": "[encoded data removed]",
      "text/plain": [
       "<Figure size 2000x400 with 20 Axes>"
      ]
     },
     "metadata": {},
     "output_type": "display_data"
    }
   ],
   "source": [
    "n = 10\n",
    "plt.figure(figsize=(20, 4))\n",
    "for i in range(n):\n",
    "  # display original\n",
    "  ax = plt.subplot(2, n, i + 1)\n",
    "  plt.imshow(x_test[i])\n",
    "  plt.title(\"original\")\n",
    "  plt.gray()\n",
    "  ax.get_xaxis().set_visible(False)\n",
    "  ax.get_yaxis().set_visible(False)\n",
    "\n",
    "  # display reconstruction\n",
    "  ax = plt.subplot(2, n, i + 1 + n)\n",
    "  plt.imshow(decoded_imgs[i])\n",
    "  plt.title(\"reconstructed\")\n",
    "  plt.gray()\n",
    "  ax.get_xaxis().set_visible(False)\n",
    "  ax.get_yaxis().set_visible(False)\n",
    "plt.show()"
   ]
  },
  {
   "cell_type": "code",
   "execution_count": null,
   "metadata": {},
   "outputs": [],
   "source": []
  }
 ],
 "metadata": {
  "kernelspec": {
   "display_name": "tf-gpu",
   "language": "python",
   "name": "python3"
  },
  "language_info": {
   "codemirror_mode": {
    "name": "ipython",
    "version": 3
   },
   "file_extension": ".py",
   "mimetype": "text/x-python",
   "name": "python",
   "nbconvert_exporter": "python",
   "pygments_lexer": "ipython3",
   "version": "3.9.16"
  },
  "orig_nbformat": 4
 },
 "nbformat": 4,
 "nbformat_minor": 2
}
